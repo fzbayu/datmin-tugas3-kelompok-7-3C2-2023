{
 "cells": [
  {
   "cell_type": "markdown",
   "id": "2ece6c9d-e301-43f2-bbff-b63c48657963",
   "metadata": {},
   "source": [
    "## Kelompok 7\n",
    "### Anggota Kelompok:\n",
    "1. Faiz Bayu Erlangga (2311231)\n",
    "2. Marco Henrik Abineno (2301093)\n",
    "3. Muhammad Alfi Fariz (2311174)\n",
    "4. Naufal Dzaki Ibrahim (2309815)\n",
    "5. Qalam Noer Fazrian (2304746)\n",
    "\n",
    "### Kelas: 3KOMC2\n",
    "\n",
    "### Mata Kuliah: IK505 - Data Mining and Warehouse\n",
    "\n",
    "### Dosen Pengampu: Dr. Yudi Wibisono, S.T., M.T.\n"
   ]
  },
  {
   "cell_type": "markdown",
   "id": "8e92c214-bc15-4bfb-9101-aec36532ccbb",
   "metadata": {},
   "source": [
    "# Pendahuluan\n",
    "Dalam dataframe ini termuat informasi tentang sesi interaksi pelanggan dengan platform e-commerce, mencatat berbagai detail tentang aktivitas pengguna, produk yang diklik, produk yang dimasukkan ke keranjang, hingga hasil akhir dari sesi tersebut (pembelian atau tidak). Setiap kolom dalam DataFrame mewakili aspek tertentu dari perilaku dan karakteristik pelanggan selama sesi berlangsung, mulai dari waktu dan durasi interaksi, jumlah produk yang diklik, rentang harga produk, hingga data demografis pelanggan seperti usia, skor evaluasi dari sudut pandang toko, status online, dan informasi lainnya.\n",
    "\n",
    "DataFrame ini memiliki struktur yang beragam, dengan beberapa kolom yang berisi nilai kontinu, nilai diskrit, dan string, serta beberapa kolom yang mungkin berisi nilai kosong atau tidak lengkap. Nilai kosong ini muncul karena beberapa informasi mungkin tidak tersedia dalam setiap sesi pelanggan. Untuk analisis lebih lanjut, diperlukan penanganan yang tepat terhadap nilai-nilai yang hilang agar tidak mempengaruhi kualitas hasil analisis.\n",
    "\n",
    "Pada tugas kali ini kami akan membuat model machine learning yang cocok untuk memprediksi apakah pelanggan akan  melakukan order atau tidak"
   ]
  },
  {
   "cell_type": "markdown",
   "id": "e9f7e8fa-b853-481a-a706-5887efd7cda9",
   "metadata": {},
   "source": [
    "## Import Library"
   ]
  },
  {
   "cell_type": "code",
   "execution_count": 882,
   "id": "24232204",
   "metadata": {
    "tags": []
   },
   "outputs": [],
   "source": [
    "# display\n",
    "%matplotlib inline\n",
    "# numerik\n",
    "import numpy as np\n",
    "# analisis\n",
    "import pandas as pd\n",
    "# plot\n",
    "import matplotlib.pyplot as plt\n",
    "# visualisasi\n",
    "import seaborn as sns\n",
    "\n",
    "from sklearn.model_selection import train_test_split\n",
    "from sklearn.preprocessing import StandardScaler, LabelEncoder\n",
    "from sklearn.ensemble import RandomForestClassifier\n",
    "from sklearn.metrics import classification_report, accuracy_score, confusion_matrix\n",
    "from tabulate import tabulate\n",
    "\n",
    "from sklearn.model_selection import train_test_split\n",
    "from sklearn.linear_model import LogisticRegression\n",
    "from sklearn.metrics import accuracy_score, confusion_matrix, classification_report\n",
    "from tabulate import tabulate"
   ]
  },
  {
   "cell_type": "markdown",
   "id": "9f78674e-e682-4228-8787-1d7e07fc863a",
   "metadata": {},
   "source": [
    "# Proses EDA"
   ]
  },
  {
   "cell_type": "markdown",
   "id": "9b5428ff-5602-4246-ba08-bd31fa778dbc",
   "metadata": {},
   "source": [
    "Proses ini dilakukan untuk memfilter data-data yang tidak lengkap atau noise, agar dalam memprediksi model machine learning menjadi efisien dan mudah."
   ]
  },
  {
   "cell_type": "markdown",
   "id": "cc7156dd-6b39-4cbd-800e-45aefd9e2d10",
   "metadata": {},
   "source": [
    "## Import Data dari .txt"
   ]
  },
  {
   "cell_type": "code",
   "execution_count": 884,
   "id": "d7b00d26",
   "metadata": {
    "tags": []
   },
   "outputs": [],
   "source": [
    "#import data\n",
    "df = pd.read_csv(\"DMC 2013_task and realclass/transact_train.txt\", delimiter=\"|\")"
   ]
  },
  {
   "cell_type": "code",
   "execution_count": 886,
   "id": "8b3bf0bb-809a-4ce7-b506-16c0eb09adec",
   "metadata": {
    "tags": []
   },
   "outputs": [
    {
     "data": {
      "text/plain": [
       "False    429013\n",
       "Name: count, dtype: int64"
      ]
     },
     "execution_count": 886,
     "metadata": {},
     "output_type": "execute_result"
    }
   ],
   "source": [
    "df.duplicated().value_counts()"
   ]
  },
  {
   "cell_type": "code",
   "execution_count": 888,
   "id": "14587ff9-9a10-4866-9b59-69ad4e90ff57",
   "metadata": {
    "tags": []
   },
   "outputs": [],
   "source": [
    "# Menghitung median dari cMinPrie (mengabaikan nilai '?')\n",
    "median_cMinPrice = df_filtered[df_filtered['cMinPrice'] != '?']['cMinPrice'].astype(float).median()\n",
    "\n",
    "# Mengganti nilai '?' pada cMinPrice dengan median\n",
    "df_filtered['cMinPrice'] = df_filtered['cMinPrice'].replace('?', median_cMinPrice)\n",
    "\n",
    "# Menghitung median untuk setiap kolom yang memiliki nilai '?'\n",
    "median_cMinPrice = df_filtered[df_filtered['cMinPrice'] != '?']['cMinPrice'].astype(float).median()\n",
    "median_cMaxPrice = df_filtered[df_filtered['cMaxPrice'] != '?']['cMaxPrice'].astype(float).median()\n",
    "median_bMinPrice = df_filtered[df_filtered['bMinPrice'] != '?']['bMinPrice'].astype(float).median()\n",
    "median_bMaxPrice = df_filtered[df_filtered['bMaxPrice'] != '?']['bMaxPrice'].astype(float).median()\n",
    "\n",
    "# Mengganti nilai '?' pada setiap kolom dengan median yang sesuai\n",
    "df_filtered['cMinPrice'] = df_filtered['cMinPrice'].replace('?', median_cMinPrice)\n",
    "df_filtered['cMaxPrice'] = df_filtered['cMaxPrice'].replace('?', median_cMaxPrice)\n",
    "df_filtered['bMinPrice'] = df_filtered['bMinPrice'].replace('?', median_bMinPrice)\n",
    "df_filtered['bMaxPrice'] = df_filtered['bMaxPrice'].replace('?', median_bMaxPrice)\n"
   ]
  },
  {
   "cell_type": "markdown",
   "id": "e2d74787-a181-48e1-82bc-c31ee36d9041",
   "metadata": {},
   "source": [
    "Kami menghitung median dari kolom cMinPrice, cMaxPrice, bMinPrice, dan bMaxPrice dengan mengabaikan nilai '?'. Setelah itu, setiap nilai '?' pada kolom-kolom tersebut diganti dengan median yang sesuai. Kami melakukan hal ini untuk memastikan semua kolom numerik tersebut tidak lagi memiliki nilai '?', sehingga data lebih stabil untuk di masukkan ke model machine learning kami."
   ]
  },
  {
   "cell_type": "code",
   "execution_count": 890,
   "id": "c4f172f8-9ae0-449f-9dff-be4eb947aa2a",
   "metadata": {
    "tags": []
   },
   "outputs": [],
   "source": [
    "# Menghitung mean dari cMinPrice dan cMaxPrice, mengabaikan nilai '?'\n",
    "df_filtered['cMinPrice'] = df_filtered['cMinPrice'].replace('?', float('nan')).astype(float)\n",
    "df_filtered['cMaxPrice'] = df_filtered['cMaxPrice'].replace('?', float('nan')).astype(float)\n",
    "\n",
    "# Menghitung rata-rata cMinPrice dan cMaxPrice\n",
    "df_filtered['mean_cMinMax'] = (df_filtered['cMinPrice'] + df_filtered['cMaxPrice']) / 2\n",
    "\n",
    "# Mengganti nilai '?' pada cSumPrice dengan mean_cMinMax * cCount\n",
    "df_filtered['cSumPrice'] = df_filtered.apply(\n",
    "    lambda row: row['mean_cMinMax'] * row['cCount'] if row['cSumPrice'] == '?' else row['cSumPrice'],\n",
    "    axis=1\n",
    ")\n",
    "\n",
    "# Menghapus kolom sementara 'mean_cMinMax'\n",
    "df_filtered.drop('mean_cMinMax', axis=1, inplace=True)\n",
    "\n",
    "# Menghitung mean dari bMinPrice dan bMaxPrice, mengabaikan nilai '?'\n",
    "df_filtered['bMinPrice'] = df_filtered['bMinPrice'].replace('?', float('nan')).astype(float)\n",
    "df_filtered['bMaxPrice'] = df_filtered['bMaxPrice'].replace('?', float('nan')).astype(float)\n",
    "\n",
    "# Menghitung rata-rata bMinPrice dan bMaxPrice\n",
    "df_filtered['mean_bMinMax'] = (df_filtered['bMinPrice'] + df_filtered['bMaxPrice']) / 2\n",
    "\n",
    "# Mengganti nilai '?' pada bSumPrice dengan mean_bMinMax * bCount\n",
    "df_filtered['bSumPrice'] = df_filtered.apply(\n",
    "    lambda row: row['mean_bMinMax'] * row['bCount'] if row['bSumPrice'] == '?' else row['bSumPrice'],\n",
    "    axis=1\n",
    ")\n",
    "\n",
    "# Menghapus kolom sementara 'mean_bMinMax'\n",
    "df_filtered.drop('mean_bMinMax', axis=1, inplace=True)\n",
    "\n"
   ]
  },
  {
   "cell_type": "markdown",
   "id": "51624c24-2018-4671-9785-2d020d46f18b",
   "metadata": {},
   "source": [
    "Kami menghitung mean dari kolom cMinPrice, cMaxPrice, bMinPrice, dan bMaxPrice dengan mengabaikan nilai '?'. Setelah itu, setiap nilai '?' pada kolom-kolom cSumPrice diganti dengan mean yang sesuai. Kami melakukan hal ini untuk memastikan semua kolom numerik tersebut tidak lagi memiliki nilai '?', sehingga data lebih stabil untuk di masukkan ke model machine learning kami."
   ]
  },
  {
   "cell_type": "code",
   "execution_count": 892,
   "id": "91e93f10-963b-441c-8875-d9a9d5ffd73c",
   "metadata": {
    "tags": []
   },
   "outputs": [],
   "source": [
    "# Pastikan bStep adalah integer\n",
    "df_filtered['bStep'] = df_filtered['bStep'].replace('?', float('nan')).astype(float)\n",
    "\n",
    "# Menghitung modus untuk setiap sesi (mengabaikan NaN)\n",
    "modus_per_sesi = df_filtered.groupby('sessionNo')['bStep'].agg(lambda x: x.mode()[0] if not x.mode().empty else 0)\n",
    "\n",
    "# Mengganti nilai NaN pada bStep dengan modus per sesi atau 0 jika semuanya adalah NaN\n",
    "df_filtered['bStep'] = df_filtered.apply(\n",
    "    lambda row: modus_per_sesi[row['sessionNo']] if pd.isna(row['bStep']) else row['bStep'],\n",
    "    axis=1\n",
    ")\n",
    "\n",
    "# Jika semua nilai dalam sesi adalah '?' maka ganti dengan 0\n",
    "df_filtered['bStep'] = df_filtered.apply(\n",
    "    lambda row: 0 if pd.isna(row['bStep']) else row['bStep'],\n",
    "    axis=1\n",
    ")\n",
    "\n",
    "# Pastikan bStep diubah menjadi integer setelah penggantian\n",
    "df_filtered['bStep'] = df_filtered['bStep'].astype(int)\n"
   ]
  },
  {
   "cell_type": "markdown",
   "id": "6c14519b-a192-4224-a1f4-082ef624e683",
   "metadata": {},
   "source": [
    "Kode ini bertujuan untuk menangani nilai yang hilang pada kolom bStep dalam df_filtered dengan cara yang sistematis. Pertama, kolom bStep yang mengandung nilai '?' diganti dengan NaN dan diubah menjadi tipe data float untuk memudahkan pengolahan nilai kosong. Selanjutnya, untuk setiap sesi yang berbeda (sessionNo), kode menghitung modus dari nilai-nilai bStep, yaitu nilai yang paling sering muncul. Jika tidak ada modus yang ditemukan (misalnya, semua nilai bStep pada sesi tersebut adalah NaN), maka modus diisi dengan nilai 0. Setelah itu, kode mengganti semua nilai NaN pada kolom bStep dengan modus yang telah dihitung berdasarkan sesi masing-masing. Sebagai langkah terakhir, kode memastikan bahwa kolom bStep diubah kembali menjadi tipe data integer setelah penggantian nilai, sehingga data menjadi lebih konsisten untuk analisis lebih lanjut."
   ]
  },
  {
   "cell_type": "code",
   "execution_count": 896,
   "id": "a863ec06-4c0a-4118-bff2-9aa2a71f11bb",
   "metadata": {
    "tags": []
   },
   "outputs": [],
   "source": [
    "df_filtered.to_csv('data_model.csv', index=False)"
   ]
  },
  {
   "cell_type": "code",
   "execution_count": 901,
   "id": "0fae0e1b-4ec5-48f4-889d-0c463e87b34b",
   "metadata": {
    "tags": []
   },
   "outputs": [],
   "source": [
    "# Ganti nilai '?' dengan 'y' menggunakan apply\n",
    "df_filtered['onlineStatus_y_True_True'] = df_filtered['onlineStatus_y_True_True'].apply(lambda x: 'y' if x == '?' else x)\n",
    "\n",
    "\n"
   ]
  },
  {
   "cell_type": "code",
   "execution_count": 903,
   "id": "18e3dc38-80ff-4b6e-a18d-790036af6540",
   "metadata": {
    "tags": []
   },
   "outputs": [],
   "source": [
    "# Ganti nilai '?' dengan NaN pada kolom accountLifetime\n",
    "df_filtered['accountLifetime'] = df_filtered['accountLifetime'].replace('?', float('nan')).astype(float)\n",
    "\n",
    "# Hitung median dari kolom accountLifetime, mengabaikan NaN\n",
    "median_accountLifetime = df_filtered['accountLifetime'].median()\n",
    "\n",
    "# Ganti NaN dengan median yang dihitung\n",
    "df_filtered['accountLifetime'] = df_filtered['accountLifetime'].fillna(median_accountLifetime)\n",
    "\n",
    "# Jika ingin memastikan tipe data tetap numerik (misalnya int atau float), gunakan:\n",
    "df_filtered['accountLifetime'] = df_filtered['accountLifetime'].astype(int)  # jika ingin menjadi integer\n"
   ]
  },
  {
   "cell_type": "code",
   "execution_count": 905,
   "id": "6816580a-0288-44c8-b06d-92c1c229fd82",
   "metadata": {
    "tags": []
   },
   "outputs": [],
   "source": [
    "# Ganti nilai '?' dengan NaN pada kolom age dan pastikan kolom bertipe numerik (int)\n",
    "df_filtered['age'] = pd.to_numeric(df_filtered['age'].replace('?', float('nan')), errors='coerce')\n",
    "\n",
    "# Hitung modus (nilai yang paling sering muncul) dari kolom age\n",
    "modus_age = df_filtered['age'].mode()[0]\n",
    "\n",
    "# Ganti NaN dengan modus yang dihitung, dan pastikan hasilnya bertipe integer\n",
    "df_filtered['age'] = df_filtered['age'].fillna(modus_age).astype(int)\n"
   ]
  },
  {
   "cell_type": "code",
   "execution_count": 907,
   "id": "92808abe-27d6-4a07-9e7e-f850ce940f8a",
   "metadata": {
    "tags": []
   },
   "outputs": [],
   "source": [
    "# Ganti nilai '?' dengan NaN pada kolom address\n",
    "df_filtered['address'] = df_filtered['address'].replace('?', float('nan'))\n",
    "\n",
    "# Hitung modus (nilai yang paling sering muncul) dari kolom address\n",
    "modus_address = df_filtered['address'].mode()[0]\n",
    "\n",
    "# Ganti NaN dengan modus yang dihitung\n",
    "df_filtered['address'] = df_filtered['address'].fillna(modus_address)\n",
    "\n",
    "# Konversi kolom address menjadi integer\n",
    "df_filtered['address'] = df_filtered['address'].astype(int)\n"
   ]
  },
  {
   "cell_type": "code",
   "execution_count": 909,
   "id": "0126b5db-c2b8-475b-8748-c81c4b0a141e",
   "metadata": {
    "tags": []
   },
   "outputs": [],
   "source": [
    "# Ganti nilai '?' dengan NaN pada kolom lastOrder\n",
    "df_filtered['lastOrder'] = df_filtered['lastOrder'].replace('?', float('nan'))\n",
    "\n",
    "# Hitung modus (nilai yang paling sering muncul) dari kolom lastOrder\n",
    "modus_lastOrder = df_filtered['lastOrder'].mode()[0]\n",
    "\n",
    "# Ganti NaN dengan modus yang dihitung\n",
    "df_filtered['lastOrder'] = df_filtered['lastOrder'].fillna(modus_lastOrder)\n",
    "\n",
    "# Pastikan kolom lastOrder tetap bertipe integer atau sesuai tipe yang diinginkan\n",
    "df_filtered['lastOrder'] = df_filtered['lastOrder'].astype(int)  # Jika ingin bertipe integer\n",
    "# Atau jika kolom lastOrder seharusnya string\n",
    "# df_filtered['lastOrder'] = df_filtered['lastOrder'].astype(str)  # Jika ingin bertipe string\n"
   ]
  },
  {
   "cell_type": "code",
   "execution_count": 911,
   "id": "eb345c13-bcd7-4f92-bd4d-f28c10d889e8",
   "metadata": {
    "tags": []
   },
   "outputs": [
    {
     "name": "stdout",
     "output_type": "stream",
     "text": [
      "\n",
      "Hasil Prediksi dalam Bentuk Tabel:\n",
      "+----+-----------+-------+\n",
      "|    | sessionNo | order |\n",
      "+----+-----------+-------+\n",
      "| 0  |   17084   |   n   |\n",
      "| 1  |   41035   |   n   |\n",
      "| 2  |   6809    |   n   |\n",
      "| 3  |   5811    |   n   |\n",
      "| 4  |   33030   |   n   |\n",
      "| 5  |   46729   |   n   |\n",
      "| 6  |   43121   |   n   |\n",
      "| 7  |   27342   |   n   |\n",
      "| 8  |   12585   |   n   |\n",
      "| 9  |   37573   |   n   |\n",
      "| 10 |   11292   |   n   |\n",
      "| 11 |   18257   |   n   |\n",
      "| 12 |   48979   |   n   |\n",
      "| 13 |   15869   |   n   |\n",
      "| 14 |   20898   |   n   |\n",
      "| 15 |   25787   |   n   |\n",
      "| 16 |   12819   |   n   |\n",
      "| 17 |   40012   |   n   |\n",
      "| 18 |   26155   |   n   |\n",
      "| 19 |   47735   |   n   |\n",
      "+----+-----------+-------+\n",
      "\n",
      "Akurasi: 1.0\n",
      "\n",
      "Laporan Klasifikasi:\n",
      "               precision    recall  f1-score   support\n",
      "\n",
      "           0       1.00      1.00      1.00    122599\n",
      "\n",
      "    accuracy                           1.00    122599\n",
      "   macro avg       1.00      1.00      1.00    122599\n",
      "weighted avg       1.00      1.00      1.00    122599\n",
      "\n",
      "\n",
      "Matriks Kebingungan:\n",
      " [[122599]]\n"
     ]
    }
   ],
   "source": [
    "# Mengubah kolom target ('order') menjadi numerik (1 untuk 'y' dan 0 untuk 'n')\n",
    "df_filtered['order'] = df_filtered['order'].apply(lambda x: 1 if x == 'y' else 0)\n",
    "\n",
    "# Menyeleksi hanya atribut yang akan digunakan dalam model\n",
    "selected_features = [\n",
    "    'sessionNo', 'startHour', 'startWeekday', 'duration', 'cCount', 'cMinPrice', 'cMaxPrice', 'cSumPrice', \n",
    "    'bCount', 'bMinPrice', 'bMaxPrice', 'bSumPrice', 'bStep', 'onlineStatus_y_True_True', 'customerNo', 'accountLifetime', \n",
    "    'payments', 'age', 'address', 'lastOrder'\n",
    "]\n",
    "df_filtered = df_filtered[selected_features + ['order']]\n",
    "\n",
    "# Label Encoding untuk kolom customerID dengan banyak nilai unik\n",
    "label_encoder = LabelEncoder()\n",
    "df_filtered['customerNo'] = label_encoder.fit_transform(df_filtered['customerNo'])\n",
    "\n",
    "# One-hot encoding pada kolom onlineStatus dengan jumlah kategori terbatas\n",
    "df_filtered = pd.get_dummies(df_filtered, columns=['onlineStatus_y_True_True'], drop_first=True)\n",
    "\n",
    "# Menyiapkan fitur dan target\n",
    "X = df_filtered.drop(columns=['sessionNo', 'order'])  # Menghilangkan 'sessionNo' agar tidak mempengaruhi model\n",
    "y = df_filtered['order']\n",
    "\n",
    "# Membagi data menjadi set pelatihan dan pengujian\n",
    "X_train, X_test, y_train, y_test = train_test_split(X, y, test_size=0.3, random_state=42)\n",
    "\n",
    "# Menyimpan kolom 'sessionNo' dari data pengujian untuk hasil akhir\n",
    "session_no_test = df_filtered.loc[X_test.index, 'sessionNo']\n",
    "\n",
    "# Standarisasi fitur\n",
    "scaler = StandardScaler()\n",
    "X_train = scaler.fit_transform(X_train)\n",
    "X_test = scaler.transform(X_test)\n",
    "\n",
    "# Inisialisasi dan pelatihan model Random Forest\n",
    "model = RandomForestClassifier(random_state=42)\n",
    "model.fit(X_train, y_train)\n",
    "\n",
    "# Prediksi dengan model\n",
    "y_pred = model.predict(X_test)\n",
    "\n",
    "# Membuat DataFrame hasil dengan kolom 'sessionNo' dan prediksi 'order'\n",
    "df_result = pd.DataFrame({\n",
    "    'sessionNo': session_no_test.values,\n",
    "    'order': ['y' if pred == 1 else 'n' for pred in y_pred]\n",
    "})\n",
    "\n",
    "# Tampilkan hasil dalam bentuk tabel\n",
    "print(\"\\nHasil Prediksi dalam Bentuk Tabel:\")\n",
    "print(tabulate(df_result.head(20), headers='keys', tablefmt='pretty'))\n",
    "\n",
    "# Evaluasi performa model\n",
    "print(\"\\nAkurasi:\", accuracy_score(y_test, y_pred))\n",
    "print(\"\\nLaporan Klasifikasi:\\n\", classification_report(y_test, y_pred))\n",
    "print(\"\\nMatriks Kebingungan:\\n\", confusion_matrix(y_test, y_pred))"
   ]
  },
  {
   "cell_type": "markdown",
   "id": "baa3b648-f1e7-4f23-a3b7-079cc3e6a90a",
   "metadata": {},
   "source": [
    "Dalam kode ini, pertama-tama kolom target `order` diubah menjadi format numerik, di mana 'y' dikodekan sebagai 1 dan 'n' sebagai 0, untuk mempermudah pemrosesan oleh model machine learning. Selanjutnya, atribut yang akan digunakan dalam model dipilih, termasuk fitur-fitur seperti `sessionNo`, `startHour`, `startWeekday`, `duration`, dan lain-lain, sementara kolom `order` tetap dipertahankan sebagai target. Kolom `customerID` yang memiliki banyak nilai unik kemudian dilakukan label encoding agar dapat digunakan dalam model, dan kolom `onlineStatus` yang memiliki kategori terbatas diproses dengan one-hot encoding.\r\n",
    "\r\n",
    "Setelah itu, fitur dan target dipisahkan, dengan `sessionNo` yang tidak dimasukkan ke dalam fitur untuk menghindari pengaruhnya terhadap model. Data kemudian dibagi menjadi data latih dan uji dengan proporsi 70% untuk latih dan 30% untuk uji. Kolom `sessionNo` dari data uji disimpan untuk digunakan dalam hasil prediksi akhir. Fitur-fitur selanjutnya distandarisasi menggunakan `StandardScaler` untuk memastikan setiap fitur memiliki skala yang seragam.\r\n",
    "\r\n",
    "Model Random Forest kemudian diinisialisasi dan dilatih dengan data latih. Setelah model terlatih, prediksi dilakukan pada data uji, dan hasil prediksi disusun dalam sebuah DataFrame dengan kolom `sessionNo` dan hasil prediksi `order` yang berisi 'y' untuk order dan 'n' untuk tidak order. Hasil ini ditampilkan dalam bentuk tabel yang rapi menggunakan `tabulate`.\r\n",
    "\r\n",
    "Untuk mengevaluasi performa model, beberapa metrik digunakan, seperti akurasi, laporan klasifikasi, dan matriks kebingungannya, yang membantu untuk mengetahui seberapa baik model dalam memprediksi apakah seorang pelanggan akan melakukan order atau tidak berdasarkan fitur yang diberikan."
   ]
  },
  {
   "cell_type": "code",
   "execution_count": null,
   "id": "293731dd-abc6-4eda-bfff-a5d643b797ab",
   "metadata": {},
   "outputs": [],
   "source": []
  }
 ],
 "metadata": {
  "kernelspec": {
   "display_name": "Python 3 (ipykernel)",
   "language": "python",
   "name": "python3"
  },
  "language_info": {
   "codemirror_mode": {
    "name": "ipython",
    "version": 3
   },
   "file_extension": ".py",
   "mimetype": "text/x-python",
   "name": "python",
   "nbconvert_exporter": "python",
   "pygments_lexer": "ipython3",
   "version": "3.12.4"
  }
 },
 "nbformat": 4,
 "nbformat_minor": 5
}
